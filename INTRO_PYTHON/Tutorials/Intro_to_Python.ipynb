{
 "cells": [
  {
   "cell_type": "markdown",
   "id": "9ca6018c",
   "metadata": {},
   "source": [
    "# Intro Tutorial\n",
    "\n",
    "Hello! Here are some intro to jupyter notebooks, packages, shell commands and pythons syntax that will help you out when begining research"
   ]
  },
  {
   "cell_type": "markdown",
   "id": "67ba26ec",
   "metadata": {},
   "source": [
    "# Jupyter Notebooks\n",
    "\n",
    "Notebooks are a great way of running python code line by line.\n",
    "In a notebook you can write code in python cells and notes in a markdown cell. \n",
    "\n",
    "#### ShortCuts in Notebooks\n",
    "\n",
    "shift + return : runs cell\n",
    "\n",
    "\n",
    "b : creates a cell below\n",
    "\n",
    "\n",
    "a : creates a cell above \n",
    "\n",
    "\n",
    "dd: deletes a cell\n",
    "\n",
    "\n",
    "m : creates a markdown cell\n",
    "\n",
    "\n",
    "y : turns a cell into python \n",
    "\n",
    "\n",
    "! : creates line for terminal command\n",
    "\n",
    "\n",
    "\"#\" : creates a comment in a python cell \n"
   ]
  },
  {
   "cell_type": "markdown",
   "id": "34a528dc",
   "metadata": {},
   "source": [
    "### Task: Make a cell blow this cell that runs python code, and run the cell below "
   ]
  },
  {
   "cell_type": "code",
   "execution_count": 4,
   "id": "870d6947",
   "metadata": {},
   "outputs": [
    {
     "name": "stdout",
     "output_type": "stream",
     "text": [
      "Hello World\n"
     ]
    }
   ],
   "source": [
    "print(\"Hello World\")"
   ]
  },
  {
   "cell_type": "markdown",
   "id": "90cc3d8d",
   "metadata": {},
   "source": [
    "# Intro To Python\n",
    "\n",
    "Data types are an important way of \n",
    "\n",
    "Python has its own coperations. Here are most of them listed out. \n",
    "\n",
    "$ + $: addition\n",
    "\n",
    "$ - $ : subtraction\n",
    "\n",
    "$ * $: multiplication \n",
    "\n",
    "= :equals\n",
    "\n",
    "/ : division\n",
    "\n",
    "** : exponentiation\n",
    "\n",
    "// : integer division\n",
    "\n",
    "% : modulus (absolute value)\n",
    "\n",
    "$+=$ : adds and gets equal to \n",
    "\n",
    "$-=$ : subtracts and gets equal to  \n",
    "\n",
    "$*=$: multiplys and gets equal to  \n",
    "\n",
    "$/=$: divides and gets equal to  \n",
    "\n",
    "%= : modulus and gets equal to  \n",
    "\n",
    "$**=$: and gets equal to  \n",
    "\n",
    "$<=$: less than and  equal to \n",
    "\n",
    "$>=$: greater than and equal to  \n",
    "\n"
   ]
  },
  {
   "cell_type": "code",
   "execution_count": 5,
   "id": "1c2fb0cb",
   "metadata": {},
   "outputs": [
    {
     "name": "stdout",
     "output_type": "stream",
     "text": [
      "61\n"
     ]
    }
   ],
   "source": [
    "#Example\n",
    "a=5 \n",
    "\n",
    "b=6\n",
    "\n",
    "c= a**2 +b**2\n",
    "\n",
    "print(c)"
   ]
  },
  {
   "cell_type": "markdown",
   "id": "ff660349",
   "metadata": {},
   "source": [
    "### Practice \n",
    "\n",
    "Make a code that emulates the equation below \n",
    "\n",
    "$ a = \\sqrt{25 +78.50*5} $\n",
    "<br>\n",
    "\n",
    "$c= \\frac{25}{7} * 3 $ #your answer should round to the nearest integer \n",
    "<br>\n",
    "\n",
    "$ x= |(7^2 +8^4 )/ (14- 21)^{5/2}|$\n",
    "<br>\n",
    "\n"
   ]
  },
  {
   "cell_type": "code",
   "execution_count": null,
   "id": "31585c0b",
   "metadata": {},
   "outputs": [],
   "source": []
  },
  {
   "cell_type": "markdown",
   "id": "5dd65820",
   "metadata": {},
   "source": [
    "## Arrays and Data Structures\n",
    "\n",
    "Data is stored into spacific categories called Data Types:\n",
    "\n",
    "* int: an integer\n",
    "* float: a decimal\n",
    "* string: a sequence of characters\n",
    "* list: a set of elements, these elements can be inegers, floats, strings etc.\n",
    "\n",
    "<bk>\n",
    "\n",
    "* tuple : similar to a list, however once these variables are set they cannot be changed\n",
    "\n",
    "<bk>\n",
    "\n",
    "* bool: a boolian (true or false)\n",
    "\n",
    "* array: a list of elements that you can conduct math on\n",
    "* dictionaries: a key and lock system that sets one element in pairs\n",
    "\n",
    "The type() function will let you know which cagetory a variable falls under\n"
   ]
  },
  {
   "cell_type": "code",
   "execution_count": 3,
   "id": "4a07dc16",
   "metadata": {
    "scrolled": false
   },
   "outputs": [
    {
     "name": "stdout",
     "output_type": "stream",
     "text": [
      "a: 2 <class 'int'>\n",
      "b: 7.658 <class 'float'>\n",
      "c: Word <class 'str'>\n",
      "d: False <class 'bool'>\n",
      "e: [2, 7.658, 'Word', False] <class 'list'>\n",
      "f: (2, 7.658, [3, 4, '6']) <class 'tuple'>\n",
      "g: {1: 'Welcome', 2: 'to', 3: 'Python'} <class 'dict'>\n"
     ]
    }
   ],
   "source": [
    "# Examples\n",
    "\n",
    "a= 2\n",
    "\n",
    "print(\"a:\",a,type(a))\n",
    "\n",
    "b= 7.658\n",
    "\n",
    "print(\"b:\",b,type(b))\n",
    "\n",
    "c= \"Word\"\n",
    "\n",
    "print(\"c:\",c,type(c))\n",
    "\n",
    "d= False\n",
    "\n",
    "print(\"d:\",d,type(d))\n",
    "\n",
    "e = [a,b,c,d]\n",
    "\n",
    "print(\"e:\",e,type(e))\n",
    "\n",
    "f= (a,b,[3,4,'6']) # tuples are cool but are rarely used becasue they can get confusing\n",
    "\n",
    "print(\"f:\",f,type(f))\n",
    "\n",
    "g= {1: 'Welcome', 2: 'to', 3: 'Python'} # dictionaries are a little tricky, we will expand on this later\n",
    "\n",
    "print(\"g:\",g, type(g))"
   ]
  },
  {
   "cell_type": "markdown",
   "id": "fcf4b724",
   "metadata": {},
   "source": [
    "You can also change the type of a varaible with teh following commands\n",
    "\n",
    "str() : switches varaible to a string\n",
    "<br>\n",
    "int() : converts to an integer\n",
    "<br>\n",
    "float() : converts to a float\n",
    "\n"
   ]
  },
  {
   "cell_type": "code",
   "execution_count": 2,
   "id": "b5413deb",
   "metadata": {},
   "outputs": [
    {
     "name": "stdout",
     "output_type": "stream",
     "text": [
      "7 <class 'str'>\n",
      "7 <class 'int'>\n",
      "7.0 <class 'float'>\n"
     ]
    }
   ],
   "source": [
    "#Example\n",
    "\n",
    "a= 6\n",
    "\n",
    "a=\"7\" # overwrites the first varaible\n",
    "\n",
    "print(a, type(a))\n",
    "\n",
    "a= int(a) # overwirtes it again and converts to an int\n",
    "\n",
    "print(a, type(a))\n",
    "\n",
    "a=float(a) #changes the variable to a float\n",
    "\n",
    "print(a, type(a))"
   ]
  },
  {
   "cell_type": "markdown",
   "id": "933768b2",
   "metadata": {},
   "source": [
    "### Practice \n",
    "\n",
    "Create a string, int and float.Then turn the float into an integer."
   ]
  },
  {
   "cell_type": "code",
   "execution_count": null,
   "id": "6feda4e7",
   "metadata": {},
   "outputs": [],
   "source": []
  },
  {
   "cell_type": "markdown",
   "id": "d823c9e5",
   "metadata": {},
   "source": [
    "## Arrays \n",
    "<br>\n",
    "Arrays are a special data structure because you can perform mathematical operations efficiently on/with them. Unlike lists, the elements of an array must be numbers (integers or floats)."
   ]
  },
  {
   "cell_type": "code",
   "execution_count": 6,
   "id": "4d5c9fbb",
   "metadata": {},
   "outputs": [
    {
     "name": "stdout",
     "output_type": "stream",
     "text": [
      "[  6   3   7 450   9   2  65  89  10   1] \n",
      " [10 12 14 16 18] \n",
      " [ 50.  60.  70.  80.  90. 100.] \n",
      " [0. 0.]\n"
     ]
    }
   ],
   "source": [
    "import numpy as np # this package is used for numeric operations on variables and arrays - arrays are faster because they vectorize calculations\n",
    "\n",
    "\n",
    "# Creates a 1D array with the values listed above (ranging from 1-6)\n",
    "a = np.array([6,3,7,450,9,2,65,89,10,1])\n",
    "\n",
    "# arange: Returns evenly spaced values within a given interval.\n",
    "b = np.arange(10,20,2)  # (start, stop, step) --> stop is not inclusive, ie. 20 will NOT be included in array here\n",
    "\n",
    "# linspace: Returns evenly spaced numbers over a specified interval.\n",
    "c = np.linspace(50,100,6) # (start, stop, number_of_samples_to_generate) --> confusingly, the stop here IS inclusive ie. 100 WILL be included in array\n",
    "\n",
    "# zeros: Returns a new array of given shape and type, filled with zeros.\n",
    "d = np.zeros(2)\n",
    "print(a, \"\\n\", b, \"\\n\", c, \"\\n\", d)"
   ]
  },
  {
   "cell_type": "markdown",
   "id": "2a7e918c",
   "metadata": {},
   "source": [
    "#### Array come in all shapes and sizes"
   ]
  },
  {
   "cell_type": "code",
   "execution_count": 7,
   "id": "85ccebdd",
   "metadata": {},
   "outputs": [
    {
     "name": "stdout",
     "output_type": "stream",
     "text": [
      "Shape (10,)\n",
      "Size 10\n",
      "Sorted [  1   2   3   6   7   9  10  65  89 450]\n",
      "Reshaped \n",
      " [[  6   3]\n",
      " [  7 450]\n",
      " [  9   2]\n",
      " [ 65  89]\n",
      " [ 10   1]]\n",
      "Flattened [  6   3   7 450   9   2  65  89  10   1]\n"
     ]
    }
   ],
   "source": [
    "# Get array shape\n",
    "print('Shape',a.shape) # (n,) tells us this is a 1D array with 6 elements\n",
    "\n",
    "print(\"Size\",a.size)  # tells us the number of elements - can also use: len(a) , which will work for lists\n",
    "\n",
    "#a=a.sort # You can also sort or reshape an array that does from lowest to highest\n",
    "print(\"Sorted\",np.sort(a))\n",
    "\n",
    "print('Reshaped',\"\\n\",a.reshape(5,2)) #reshape the arry to 2 columns and 5 rows\n",
    "\n",
    "a.flatten #will flatten the array to be back to 1D\n",
    "print(\"Flattened\", a.flatten())"
   ]
  },
  {
   "cell_type": "markdown",
   "id": "17ad1b7a",
   "metadata": {},
   "source": [
    "### Practice\n",
    "\n",
    "a) Create a numpy array that ranges from 0 to 100 and skips every 2 integers\n",
    "\n",
    "b) Create a numpy array that ranges from 0 to 100 with 500 steps\n",
    "\n",
    "c) Crete a numpy array that is composed of 250 zeros\n",
    "\n",
    "d) Create a numpy array with your choise of 7 values\n",
    "\n",
    "e) Sort the array"
   ]
  },
  {
   "cell_type": "markdown",
   "id": "d9a0ebf2",
   "metadata": {},
   "source": [
    "### Slicing arrays\n",
    "\n",
    "Sometimes you only want one value or a subset of values from an array. To do this you can slice it."
   ]
  },
  {
   "cell_type": "code",
   "execution_count": 14,
   "id": "e29697fd",
   "metadata": {},
   "outputs": [],
   "source": [
    "a = np.array([6,3,7,450,9,2,65,89,10,1])"
   ]
  },
  {
   "cell_type": "code",
   "execution_count": 15,
   "id": "41f4a120",
   "metadata": {},
   "outputs": [
    {
     "data": {
      "text/plain": [
       "6"
      ]
     },
     "execution_count": 15,
     "metadata": {},
     "output_type": "execute_result"
    }
   ],
   "source": [
    "# Slicing a Numpy array requires using [] brackets\n",
    "a[0]  # Recall Python indexing, index [0] is the first element in your array"
   ]
  },
  {
   "cell_type": "code",
   "execution_count": 16,
   "id": "d6bd4ce8",
   "metadata": {},
   "outputs": [
    {
     "data": {
      "text/plain": [
       "1"
      ]
     },
     "execution_count": 16,
     "metadata": {},
     "output_type": "execute_result"
    }
   ],
   "source": [
    "# Last element of an array can be indexed by using [-1], and using [-2] will give second last element, and so on\n",
    "a[-1]"
   ]
  },
  {
   "cell_type": "code",
   "execution_count": 17,
   "id": "7af9e8c1",
   "metadata": {},
   "outputs": [
    {
     "data": {
      "text/plain": [
       "array([  7, 450,   9,   2,  65,  89,  10,   1])"
      ]
     },
     "execution_count": 17,
     "metadata": {},
     "output_type": "execute_result"
    }
   ],
   "source": [
    "# Slicing parts of an array --> the \":\" indicates to \"pass all the way until the end\"\n",
    "sliced_a = a[2:]    # ie. all values after the 3rd element (corresponding to index 2) will be sliced into your new array\n",
    "sliced_a"
   ]
  },
  {
   "cell_type": "code",
   "execution_count": 18,
   "id": "24c987e2",
   "metadata": {},
   "outputs": [
    {
     "data": {
      "text/plain": [
       "array([  6,   3,   7, 450,   9,   2,  65,  89])"
      ]
     },
     "execution_count": 18,
     "metadata": {},
     "output_type": "execute_result"
    }
   ],
   "source": [
    "# You can slice the array from beginning up to a certain index\n",
    "a[:-2]"
   ]
  },
  {
   "cell_type": "code",
   "execution_count": 19,
   "id": "165d294d",
   "metadata": {},
   "outputs": [
    {
     "data": {
      "text/plain": [
       "array([  6,   3,   7, 450,   9,   2,  65])"
      ]
     },
     "execution_count": 19,
     "metadata": {},
     "output_type": "execute_result"
    }
   ],
   "source": [
    "a[:7] #up to but not including element 7"
   ]
  },
  {
   "cell_type": "code",
   "execution_count": 20,
   "id": "a392a0ae",
   "metadata": {},
   "outputs": [
    {
     "data": {
      "text/plain": [
       "array([ 6,  7,  9, 65, 10])"
      ]
     },
     "execution_count": 20,
     "metadata": {},
     "output_type": "execute_result"
    }
   ],
   "source": [
    "# Slice array in steps (here you are slicing by 2 steps), the \"::\" is so that the entire array is indexed this way\n",
    "a[::2]"
   ]
  },
  {
   "cell_type": "code",
   "execution_count": null,
   "id": "73c369a0",
   "metadata": {},
   "outputs": [],
   "source": [
    "# you can also slice n by m arrays\n",
    "\n",
    "b= np.array([[1,2,3,4,5],[6,7,8,9,10]]) #this creates an array with two rows and 5 columns\n",
    "print(b)\n",
    "print(\"shape\",b.shape) #recall that arrays can have multiple shapes\n",
    "\n",
    "print(\"First Row\",b[0,:]) #will slice the array to give our first row\n",
    "print(\"First Column\",b[:,0]) #will slice to give our first column\n",
    "\n",
    "#if you want a specific element, you need to give it the row and colum value much like an (x,y) ordered pair\n",
    "print(b[0,2])\n",
    "\n"
   ]
  },
  {
   "cell_type": "markdown",
   "id": "f840994b",
   "metadata": {},
   "source": [
    "### Practice\n",
    "\n",
    "Create a 2, by 3 array, check the shape and print the terms. Then reshape the array to be 3 by 2. Laslt flattent the array."
   ]
  },
  {
   "cell_type": "markdown",
   "id": "6c5a5fba",
   "metadata": {},
   "source": [
    "# If statments\n",
    "An if stamtnets checks for a condition before running a block of code. If the statment is true the block of code will run, if it is false then the next block of code will run. "
   ]
  },
  {
   "cell_type": "code",
   "execution_count": 22,
   "id": "fd898037",
   "metadata": {},
   "outputs": [
    {
     "name": "stdout",
     "output_type": "stream",
     "text": [
      "0\n"
     ]
    }
   ],
   "source": [
    "# Example 1\n",
    "\n",
    "a=9 #in an if statement you must first initialize the varaible becasue\n",
    "\n",
    "if a<10 :  #our if condition checkt to see if a is less than  10\n",
    "    print(\"a is less than 10\")\n",
    "\n",
    "else:#this else statment will appear if the condition is false \n",
    "    print(\"a is grater than or equal to 10\")\n",
    "    \n",
    "#try to change a "
   ]
  },
  {
   "cell_type": "markdown",
   "id": "fca33d8d",
   "metadata": {},
   "source": [
    "### Practice \n",
    "\n",
    "a) Write a code that determines weatehr a number is even or odd.\n",
    "<br>\n",
    "\n",
    "b) Write a code to determine if a number is prime"
   ]
  },
  {
   "cell_type": "code",
   "execution_count": null,
   "id": "3ce4d17f",
   "metadata": {},
   "outputs": [],
   "source": []
  },
  {
   "cell_type": "markdown",
   "id": "68e19e36",
   "metadata": {},
   "source": [
    "# Intro to Loops\n",
    "\n",
    "In python to do an iritive process you use a loop. This can be done with a 'for' loop or a 'while' loop. \n",
    "\n",
    "* 'for' loops will repeate a block of code a known number of time\n",
    "* 'while' loops will repeat a block of code while a condition is met\n"
   ]
  },
  {
   "cell_type": "code",
   "execution_count": 5,
   "id": "7a5bd9e4",
   "metadata": {},
   "outputs": [
    {
     "name": "stdout",
     "output_type": "stream",
     "text": [
      "0\n",
      "1\n",
      "2\n",
      "3\n",
      "4\n",
      "5\n",
      "6\n",
      "7\n",
      "8\n",
      "9\n"
     ]
    }
   ],
   "source": [
    "#Example of For loop        \n",
    "x=0 \n",
    "\n",
    "for x in range (10): \n",
    "    print(x)"
   ]
  },
  {
   "cell_type": "code",
   "execution_count": 4,
   "id": "6f6eae90",
   "metadata": {
    "scrolled": true
   },
   "outputs": [
    {
     "name": "stdout",
     "output_type": "stream",
     "text": [
      "1\n",
      "2\n",
      "3\n",
      "4\n",
      "5\n",
      "6\n",
      "7\n",
      "8\n",
      "9\n",
      "10\n",
      "11\n"
     ]
    }
   ],
   "source": [
    "y=0\n",
    "while y<= 10:\n",
    "    \n",
    "    y= y+1\n",
    "    \n",
    "    print(y)\n"
   ]
  },
  {
   "cell_type": "markdown",
   "id": "3a9e8b84",
   "metadata": {},
   "source": [
    "As you can see for a while loop one more itiration is done than the for loop. This is becasue the condition of being less than or equal to 10 is no longer met. \n",
    "\n",
    "* Notice if you did not add 1 to y, the code would run infinitly "
   ]
  },
  {
   "cell_type": "code",
   "execution_count": null,
   "id": "a1b9a719",
   "metadata": {},
   "outputs": [],
   "source": [
    "#Practice\n",
    "Create a code that will loop through an equation of your choosing before it hits some maximum value. \n"
   ]
  },
  {
   "cell_type": "markdown",
   "id": "705c739f",
   "metadata": {},
   "source": [
    "# Functions \n",
    "\n",
    "A fucntion is a program that will conduct a peice of doce when you call on it. For example the print command is a function. Functions are called and use a paratheses to enter values.\n",
    "\n",
    "* def : is the comand to define a function \n",
    "* functions take in one or more inputs\n",
    "* a defintes input has a value already and does not need to "
   ]
  },
  {
   "cell_type": "code",
   "execution_count": 1,
   "id": "24f435fe",
   "metadata": {},
   "outputs": [
    {
     "data": {
      "text/plain": [
       "7"
      ]
     },
     "execution_count": 1,
     "metadata": {},
     "output_type": "execute_result"
    }
   ],
   "source": [
    "# Example \n",
    "def my_subtraction_function(argument_1, argument_2 = 3):\n",
    "  \"\"\"\n",
    "  The triple quotation marks are known as a doc string and are used to explain/document what the function does, what the inputs and outputs are.\n",
    "  Function that takes the difference of argument 1 and argument 2.\n",
    "\n",
    "  Input:\n",
    "  argument_1 (int): first user input.\n",
    "  argument_2 (int): second user input. Note that this argument is set to 3 when we define the function. This means that the argument has\n",
    "                    a \"fallback value\" set to 3, so that if the user does not input a value for argument_2 when calling the function, the value\n",
    "                    will automatically default to a value of 3. Conversely, the user can use any value other than 3 and the function will execute\n",
    "                    using that value, as long as the value is of the same data type.\n",
    "\n",
    "  Returns:\n",
    "  solution (int): the sum of argument_1 and argument_2.\n",
    "  \"\"\"\n",
    "  solution= argument_1 - argument_2\n",
    "\n",
    "  return solution # this return statment will allow you to access this varaible in\n",
    "\n",
    "# You typically want to save the output of a function call\n",
    "my_difference = my_subtraction_function(argument_1 = 10)\n",
    "\n",
    "my_difference"
   ]
  },
  {
   "cell_type": "code",
   "execution_count": 2,
   "id": "3d28ebc5",
   "metadata": {},
   "outputs": [
    {
     "data": {
      "text/plain": [
       "5"
      ]
     },
     "execution_count": 2,
     "metadata": {},
     "output_type": "execute_result"
    }
   ],
   "source": [
    "# To show that you can use both arguments when calling the function as well\n",
    "my_subtraction_function(argument_1 = 10, argument_2 = 5)"
   ]
  },
  {
   "cell_type": "code",
   "execution_count": 3,
   "id": "b6ede199",
   "metadata": {},
   "outputs": [
    {
     "data": {
      "text/plain": [
       "-5"
      ]
     },
     "execution_count": 3,
     "metadata": {},
     "output_type": "execute_result"
    }
   ],
   "source": [
    "# Function arguments keep their order, so you don't need to write \"argument = \" everytime. If you have a function with many arguments, it helps to type them out.\n",
    "my_subtraction_function(5, 10)"
   ]
  },
  {
   "cell_type": "markdown",
   "id": "3515a861",
   "metadata": {},
   "source": [
    "### Practice\n",
    "\n",
    "Write a function that computes the quadratic formula. \n",
    "\n",
    "$  \\frac {-b \\pm \\sqrt{(b^2 - 4ac) }}{2a}$"
   ]
  },
  {
   "cell_type": "code",
   "execution_count": null,
   "id": "bff8a673",
   "metadata": {},
   "outputs": [],
   "source": []
  },
  {
   "cell_type": "markdown",
   "id": "5d41defb",
   "metadata": {},
   "source": [
    "# "
   ]
  }
 ],
 "metadata": {
  "kernelspec": {
   "display_name": "Python 3 (ipykernel)",
   "language": "python",
   "name": "python3"
  },
  "language_info": {
   "codemirror_mode": {
    "name": "ipython",
    "version": 3
   },
   "file_extension": ".py",
   "mimetype": "text/x-python",
   "name": "python",
   "nbconvert_exporter": "python",
   "pygments_lexer": "ipython3",
   "version": "3.11.5"
  }
 },
 "nbformat": 4,
 "nbformat_minor": 5
}
