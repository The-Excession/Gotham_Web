{
 "cells": [
  {
   "cell_type": "code",
   "execution_count": 10,
   "metadata": {},
   "outputs": [],
   "source": [
    "# Test to see if filament CLASS works well \n",
    "# Test to see if functions work well how they currently are (28 June 2024)\n",
    "import sys \n",
    "import numpy as np\n",
    "import pandas as pd\n",
    "import matplotlib.pyplot as plt\n",
    "\n",
    "path = '../filaments/'\n",
    "sys.path.insert(0, path)\n",
    "import filament_functions as ff\n",
    "from filament import Filament"
   ]
  },
  {
   "cell_type": "code",
   "execution_count": 2,
   "metadata": {},
   "outputs": [
    {
     "name": "stdout",
     "output_type": "stream",
     "text": [
      "header1, ANDSKEL\n",
      "\n",
      "ndims, 3\n",
      "\n",
      "Comments, #No comments (RB) (RB) (RB) (RB) (RB)\n",
      "\n",
      "Bounding box, BBOX [-1436.7,-987.426,-78.1993] [1440.62,2098.18,156.865]\n",
      "\n",
      "ncrit, 3588\n",
      "nfils, 3679\n",
      "Reading data fields:\n",
      "CP field: persistence_ratio\n",
      "\n",
      "CP field: persistence_nsigmas\n",
      "\n",
      "CP field: persistence\n",
      "\n",
      "CP field: robustness_ratio\n",
      "\n",
      "CP field: robustness\n",
      "\n",
      "CP field: persistence_pair\n",
      "\n",
      "CP field: parent_index\n",
      "\n",
      "CP field: parent_log_index\n",
      "\n",
      "CP field: log_field_value\n",
      "\n",
      "CP field: field_value\n",
      "\n",
      "CP field: cell\n",
      "\n",
      "Filament field: field_value\n",
      "\n",
      "Filament field: orientation\n",
      "\n",
      "Filament field: cell\n",
      "\n",
      "Filament field: log_field_value\n",
      "\n",
      "Filament field: type\n",
      "\n",
      "Filament field: robustness\n",
      "\n",
      "Filament field: robustness_ratio\n",
      "\n",
      "Reading filaments took 0.05 secs.\n",
      "header1, ANDSKEL\n",
      "\n",
      "ndims, 3\n",
      "\n",
      "Comments, #No comments (RB) (RB) (RB) (RB) (RB)\n",
      "\n",
      "Bounding box, BBOX [-1436.7,-987.426,-78.1993] [1440.62,2098.18,156.865]\n",
      "\n",
      "ncrit, 3588\n",
      "nfils, 3679\n",
      "Reading data fields:\n",
      "CP field: persistence_ratio\n",
      "\n",
      "CP field: persistence_nsigmas\n",
      "\n",
      "CP field: persistence\n",
      "\n",
      "CP field: robustness_ratio\n",
      "\n",
      "CP field: robustness\n",
      "\n",
      "CP field: persistence_pair\n",
      "\n",
      "CP field: parent_index\n",
      "\n",
      "CP field: parent_log_index\n",
      "\n",
      "CP field: log_field_value\n",
      "\n",
      "CP field: field_value\n",
      "\n",
      "CP field: cell\n",
      "\n",
      "Filament field: field_value\n",
      "\n",
      "Filament field: orientation\n",
      "\n",
      "Filament field: cell\n",
      "\n",
      "Filament field: log_field_value\n",
      "\n",
      "Filament field: type\n",
      "\n",
      "Filament field: robustness\n",
      "\n",
      "Filament field: robustness_ratio\n",
      "\n",
      "Reading filaments took 0.07 secs.\n"
     ]
    }
   ],
   "source": [
    "# Sample path to GAMA filaments \n",
    "skel_path = '../Sample_Filaments/GAMA_tess.NDnet_s5.up.NDskl.S002.BRK.ASMB.rmO.rmB.a.NDskl'\n",
    "my_filaments = Filament(skel_path)\n",
    "myfils = my_filaments.import_fils()"
   ]
  },
  {
   "cell_type": "code",
   "execution_count": 4,
   "metadata": {},
   "outputs": [],
   "source": [
    "# Get filament segments to begin with\n",
    "segments = my_filaments.segment_coordinates()"
   ]
  },
  {
   "cell_type": "code",
   "execution_count": 5,
   "metadata": {},
   "outputs": [
    {
     "data": {
      "text/html": [
       "<div>\n",
       "<style scoped>\n",
       "    .dataframe tbody tr th:only-of-type {\n",
       "        vertical-align: middle;\n",
       "    }\n",
       "\n",
       "    .dataframe tbody tr th {\n",
       "        vertical-align: top;\n",
       "    }\n",
       "\n",
       "    .dataframe thead th {\n",
       "        text-align: right;\n",
       "    }\n",
       "</style>\n",
       "<table border=\"1\" class=\"dataframe\">\n",
       "  <thead>\n",
       "    <tr style=\"text-align: right;\">\n",
       "      <th></th>\n",
       "      <th>px</th>\n",
       "      <th>py</th>\n",
       "      <th>pz</th>\n",
       "      <th>px2</th>\n",
       "      <th>py2</th>\n",
       "      <th>pz2</th>\n",
       "      <th>Filament ID</th>\n",
       "    </tr>\n",
       "  </thead>\n",
       "  <tbody>\n",
       "    <tr>\n",
       "      <th>0</th>\n",
       "      <td>-218.108</td>\n",
       "      <td>-153.104</td>\n",
       "      <td>5.52731</td>\n",
       "      <td>-214.830</td>\n",
       "      <td>-150.358</td>\n",
       "      <td>8.16807</td>\n",
       "      <td>0</td>\n",
       "    </tr>\n",
       "    <tr>\n",
       "      <th>1</th>\n",
       "      <td>-214.830</td>\n",
       "      <td>-150.358</td>\n",
       "      <td>8.16807</td>\n",
       "      <td>-212.155</td>\n",
       "      <td>-147.191</td>\n",
       "      <td>9.33830</td>\n",
       "      <td>0</td>\n",
       "    </tr>\n",
       "    <tr>\n",
       "      <th>2</th>\n",
       "      <td>-212.155</td>\n",
       "      <td>-147.191</td>\n",
       "      <td>9.33830</td>\n",
       "      <td>-210.049</td>\n",
       "      <td>-144.316</td>\n",
       "      <td>9.33611</td>\n",
       "      <td>0</td>\n",
       "    </tr>\n",
       "    <tr>\n",
       "      <th>3</th>\n",
       "      <td>-210.049</td>\n",
       "      <td>-144.316</td>\n",
       "      <td>9.33611</td>\n",
       "      <td>-208.257</td>\n",
       "      <td>-142.392</td>\n",
       "      <td>9.13846</td>\n",
       "      <td>0</td>\n",
       "    </tr>\n",
       "    <tr>\n",
       "      <th>4</th>\n",
       "      <td>-208.257</td>\n",
       "      <td>-142.392</td>\n",
       "      <td>9.13846</td>\n",
       "      <td>-206.576</td>\n",
       "      <td>-141.051</td>\n",
       "      <td>9.01675</td>\n",
       "      <td>0</td>\n",
       "    </tr>\n",
       "    <tr>\n",
       "      <th>...</th>\n",
       "      <td>...</td>\n",
       "      <td>...</td>\n",
       "      <td>...</td>\n",
       "      <td>...</td>\n",
       "      <td>...</td>\n",
       "      <td>...</td>\n",
       "      <td>...</td>\n",
       "    </tr>\n",
       "    <tr>\n",
       "      <th>2</th>\n",
       "      <td>-824.080</td>\n",
       "      <td>-770.452</td>\n",
       "      <td>-5.33363</td>\n",
       "      <td>-822.003</td>\n",
       "      <td>-772.237</td>\n",
       "      <td>-6.29777</td>\n",
       "      <td>3677</td>\n",
       "    </tr>\n",
       "    <tr>\n",
       "      <th>0</th>\n",
       "      <td>-823.801</td>\n",
       "      <td>-728.619</td>\n",
       "      <td>-29.48720</td>\n",
       "      <td>-823.578</td>\n",
       "      <td>-728.600</td>\n",
       "      <td>-32.58120</td>\n",
       "      <td>3678</td>\n",
       "    </tr>\n",
       "    <tr>\n",
       "      <th>1</th>\n",
       "      <td>-823.578</td>\n",
       "      <td>-728.600</td>\n",
       "      <td>-32.58120</td>\n",
       "      <td>-822.746</td>\n",
       "      <td>-728.210</td>\n",
       "      <td>-34.12370</td>\n",
       "      <td>3678</td>\n",
       "    </tr>\n",
       "    <tr>\n",
       "      <th>2</th>\n",
       "      <td>-822.746</td>\n",
       "      <td>-728.210</td>\n",
       "      <td>-34.12370</td>\n",
       "      <td>-821.686</td>\n",
       "      <td>-727.488</td>\n",
       "      <td>-34.64460</td>\n",
       "      <td>3678</td>\n",
       "    </tr>\n",
       "    <tr>\n",
       "      <th>3</th>\n",
       "      <td>-821.686</td>\n",
       "      <td>-727.488</td>\n",
       "      <td>-34.64460</td>\n",
       "      <td>-820.548</td>\n",
       "      <td>-726.648</td>\n",
       "      <td>-34.94400</td>\n",
       "      <td>3678</td>\n",
       "    </tr>\n",
       "  </tbody>\n",
       "</table>\n",
       "<p>25060 rows × 7 columns</p>\n",
       "</div>"
      ],
      "text/plain": [
       "         px       py        pz      px2      py2       pz2  Filament ID\n",
       "0  -218.108 -153.104   5.52731 -214.830 -150.358   8.16807            0\n",
       "1  -214.830 -150.358   8.16807 -212.155 -147.191   9.33830            0\n",
       "2  -212.155 -147.191   9.33830 -210.049 -144.316   9.33611            0\n",
       "3  -210.049 -144.316   9.33611 -208.257 -142.392   9.13846            0\n",
       "4  -208.257 -142.392   9.13846 -206.576 -141.051   9.01675            0\n",
       "..      ...      ...       ...      ...      ...       ...          ...\n",
       "2  -824.080 -770.452  -5.33363 -822.003 -772.237  -6.29777         3677\n",
       "0  -823.801 -728.619 -29.48720 -823.578 -728.600 -32.58120         3678\n",
       "1  -823.578 -728.600 -32.58120 -822.746 -728.210 -34.12370         3678\n",
       "2  -822.746 -728.210 -34.12370 -821.686 -727.488 -34.64460         3678\n",
       "3  -821.686 -727.488 -34.64460 -820.548 -726.648 -34.94400         3678\n",
       "\n",
       "[25060 rows x 7 columns]"
      ]
     },
     "execution_count": 5,
     "metadata": {},
     "output_type": "execute_result"
    }
   ],
   "source": [
    "segments"
   ]
  },
  {
   "cell_type": "markdown",
   "metadata": {},
   "source": [
    "### GET LENGTHS"
   ]
  },
  {
   "cell_type": "code",
   "execution_count": 10,
   "metadata": {},
   "outputs": [
    {
     "data": {
      "text/plain": [
       "array([[-218.108  , -153.104  ,    5.52731, ..., -150.358  ,    8.16807,\n",
       "           0.     ],\n",
       "       [-214.83   , -150.358  ,    8.16807, ..., -147.191  ,    9.3383 ,\n",
       "           0.     ],\n",
       "       [-212.155  , -147.191  ,    9.3383 , ..., -144.316  ,    9.33611,\n",
       "           0.     ],\n",
       "       ...,\n",
       "       [-823.578  , -728.6    ,  -32.5812 , ..., -728.21   ,  -34.1237 ,\n",
       "        3678.     ],\n",
       "       [-822.746  , -728.21   ,  -34.1237 , ..., -727.488  ,  -34.6446 ,\n",
       "        3678.     ],\n",
       "       [-821.686  , -727.488  ,  -34.6446 , ..., -726.648  ,  -34.944  ,\n",
       "        3678.     ]])"
      ]
     },
     "execution_count": 10,
     "metadata": {},
     "output_type": "execute_result"
    }
   ],
   "source": [
    "# For ease/speed we convert to Numpy arrays \n",
    "segment_array = np.array(segments)\n",
    "segment_array"
   ]
  },
  {
   "cell_type": "code",
   "execution_count": 11,
   "metadata": {},
   "outputs": [
    {
     "data": {
      "text/plain": [
       "array([-218.108  , -153.104  ,    5.52731, -214.83   , -150.358  ,\n",
       "          8.16807,    0.     ])"
      ]
     },
     "execution_count": 11,
     "metadata": {},
     "output_type": "execute_result"
    }
   ],
   "source": [
    "# One \"row\" of this array has all the columns from the DataFrame earlier\n",
    "segment_array[0]"
   ]
  },
  {
   "cell_type": "code",
   "execution_count": 12,
   "metadata": {},
   "outputs": [
    {
     "data": {
      "text/plain": [
       "array([-218.108  , -153.104  ,    5.52731])"
      ]
     },
     "execution_count": 12,
     "metadata": {},
     "output_type": "execute_result"
    }
   ],
   "source": [
    "segment_array[0][:3] #px py pz"
   ]
  },
  {
   "cell_type": "code",
   "execution_count": 13,
   "metadata": {},
   "outputs": [
    {
     "data": {
      "text/plain": [
       "array([-214.83   , -150.358  ,    8.16807])"
      ]
     },
     "execution_count": 13,
     "metadata": {},
     "output_type": "execute_result"
    }
   ],
   "source": [
    "segment_array[0][3:-1] #px2, py2, pz2"
   ]
  },
  {
   "cell_type": "code",
   "execution_count": 15,
   "metadata": {},
   "outputs": [
    {
     "data": {
      "text/plain": [
       "0.0"
      ]
     },
     "execution_count": 15,
     "metadata": {},
     "output_type": "execute_result"
    }
   ],
   "source": [
    "segment_array[1][-1] #filament ID"
   ]
  },
  {
   "cell_type": "code",
   "execution_count": 29,
   "metadata": {},
   "outputs": [
    {
     "data": {
      "text/plain": [
       "array([5.02587439, 4.30754597, 3.56382741, ..., 1.79544709, 1.38427628,\n",
       "       1.44578157])"
      ]
     },
     "execution_count": 29,
     "metadata": {},
     "output_type": "execute_result"
    }
   ],
   "source": [
    "# Now calculate the distance between segments for each Filament ID; note that no ID is stored \n",
    "N = len(segment_array)\n",
    "segment_distances = np.zeros(N)\n",
    "\n",
    "for i in range(N):\n",
    "    segment_distances[i] = np.linalg.norm((segment_array[i][:3]) - (segment_array[i][3:-1]))\n",
    "\n",
    "segment_distances"
   ]
  },
  {
   "cell_type": "code",
   "execution_count": 30,
   "metadata": {},
   "outputs": [
    {
     "data": {
      "text/plain": [
       "(3679,)"
      ]
     },
     "execution_count": 30,
     "metadata": {},
     "output_type": "execute_result"
    }
   ],
   "source": [
    "# Check how many unique Filament ID's there are\n",
    "filament_ids = np.array(segments[\"Filament ID\"])\n",
    "unique_ids = np.unique(filament_ids)\n",
    "unique_ids.shape"
   ]
  },
  {
   "cell_type": "code",
   "execution_count": 31,
   "metadata": {},
   "outputs": [
    {
     "data": {
      "text/plain": [
       "(25060,)"
      ]
     },
     "execution_count": 31,
     "metadata": {},
     "output_type": "execute_result"
    }
   ],
   "source": [
    "# now we have array of ONE value for distance between segements\n",
    "# and an array of equal size for the filament IDs \n",
    "filament_ids.shape"
   ]
  },
  {
   "cell_type": "code",
   "execution_count": 32,
   "metadata": {},
   "outputs": [
    {
     "data": {
      "text/plain": [
       "(array([ 0,  1,  2,  3,  4,  5,  6,  7,  8,  9, 10, 11, 12, 13, 14, 15, 16,\n",
       "        17, 18, 19, 20, 21, 22, 23, 24, 25, 26, 27, 28, 29]),)"
      ]
     },
     "execution_count": 32,
     "metadata": {},
     "output_type": "execute_result"
    }
   ],
   "source": [
    "# ID mask tells us all the places where filament ID's are equal to 0 in the filament_ids array\n",
    "ID_mask = np.where(filament_ids==0)\n",
    "ID_mask # voila! "
   ]
  },
  {
   "cell_type": "code",
   "execution_count": 33,
   "metadata": {},
   "outputs": [
    {
     "data": {
      "text/plain": [
       "array([5.02587439, 4.30754597, 3.56382741, 2.63668457, 2.15380021,\n",
       "       2.12433768, 2.01336656, 1.64658885, 1.20561454, 0.8846086 ,\n",
       "       0.64547211, 0.56726631, 0.73550244, 0.84330224, 0.68233929,\n",
       "       0.45055999, 0.60296725, 0.71837495, 0.68231875, 0.61884197,\n",
       "       0.64767391, 0.89475577, 1.09027453, 0.96598282, 0.77195839,\n",
       "       0.66882677, 0.58283834, 0.6762714 , 0.72729872, 0.70018356])"
      ]
     },
     "execution_count": 33,
     "metadata": {},
     "output_type": "execute_result"
    }
   ],
   "source": [
    "# Therefore this line gives us all the distances between segments for the first (0-th ID) Filament ! All we need now is to sum t\n",
    "segment_distances[ID_mask]"
   ]
  },
  {
   "cell_type": "code",
   "execution_count": 34,
   "metadata": {},
   "outputs": [
    {
     "data": {
      "text/plain": [
       "39.835258262064606"
      ]
     },
     "execution_count": 34,
     "metadata": {},
     "output_type": "execute_result"
    }
   ],
   "source": [
    "# Sum these distances to get length of Filament with ID 0\n",
    "np.sum(segment_distances[ID_mask])"
   ]
  },
  {
   "cell_type": "code",
   "execution_count": 35,
   "metadata": {},
   "outputs": [
    {
     "data": {
      "text/plain": [
       "array([39.83525826, 19.41085909, 17.66642879, ..., 28.89221023,\n",
       "        7.72567898,  7.72758908])"
      ]
     },
     "execution_count": 35,
     "metadata": {},
     "output_type": "execute_result"
    }
   ],
   "source": [
    "# Next loop over the unique Filament IDs and sum distances between segments for each Filament ID\n",
    "M = len(unique_ids) # length of unique ids, from 0 to 7340\n",
    "\n",
    "filament_lengths = np.zeros(M)\n",
    "\n",
    "for i in range(M): \n",
    "    ID_mask = np.where(filament_ids == i)  # masks entire filament length array by filament ID (which should == iterator step)\n",
    "    filament_lengths[i] = np.sum(segment_distances[ID_mask]) # sums all of the non-masked values from iterator check, saves to i-th value of new array\n",
    "    \n",
    "filament_lengths"
   ]
  },
  {
   "cell_type": "code",
   "execution_count": 36,
   "metadata": {},
   "outputs": [
    {
     "name": "stdout",
     "output_type": "stream",
     "text": [
      "(3679,) \n",
      " (3679,)\n"
     ]
    }
   ],
   "source": [
    "#filament lengths should match shape of unique id\n",
    "print(filament_lengths.shape, \"\\n\", unique_ids.shape) # voila"
   ]
  },
  {
   "cell_type": "code",
   "execution_count": 40,
   "metadata": {},
   "outputs": [
    {
     "data": {
      "text/plain": [
       "(array([1.074e+03, 9.750e+02, 6.220e+02, 3.830e+02, 2.190e+02, 1.500e+02,\n",
       "        9.300e+01, 4.300e+01, 2.600e+01, 2.700e+01, 2.100e+01, 1.300e+01,\n",
       "        9.000e+00, 5.000e+00, 7.000e+00, 4.000e+00, 4.000e+00, 2.000e+00,\n",
       "        0.000e+00, 1.000e+00, 0.000e+00, 0.000e+00, 0.000e+00, 0.000e+00,\n",
       "        0.000e+00, 0.000e+00, 0.000e+00, 0.000e+00, 0.000e+00, 1.000e+00]),\n",
       " array([6.18165105e-03, 7.64146585e+00, 1.52767500e+01, 2.29120342e+01,\n",
       "        3.05473184e+01, 3.81826026e+01, 4.58178868e+01, 5.34531710e+01,\n",
       "        6.10884552e+01, 6.87237394e+01, 7.63590236e+01, 8.39943078e+01,\n",
       "        9.16295920e+01, 9.92648762e+01, 1.06900160e+02, 1.14535445e+02,\n",
       "        1.22170729e+02, 1.29806013e+02, 1.37441297e+02, 1.45076581e+02,\n",
       "        1.52711866e+02, 1.60347150e+02, 1.67982434e+02, 1.75617718e+02,\n",
       "        1.83253002e+02, 1.90888287e+02, 1.98523571e+02, 2.06158855e+02,\n",
       "        2.13794139e+02, 2.21429423e+02, 2.29064708e+02]),\n",
       " <BarContainer object of 30 artists>)"
      ]
     },
     "execution_count": 40,
     "metadata": {},
     "output_type": "execute_result"
    },
    {
     "data": {
      "image/png": "[encoded data removed]",
      "text/plain": [
       "<Figure size 640x480 with 1 Axes>"
      ]
     },
     "metadata": {},
     "output_type": "display_data"
    }
   ],
   "source": [
    "plt.hist(filament_lengths, bins=30)"
   ]
  },
  {
   "cell_type": "markdown",
   "metadata": {},
   "source": [
    "### Save Filament Lengths"
   ]
  },
  {
   "cell_type": "code",
   "execution_count": 41,
   "metadata": {},
   "outputs": [
    {
     "data": {
      "text/plain": [
       "array([39.83525826, 39.83525826, 39.83525826, ...,  7.72758908,\n",
       "        7.72758908,  7.72758908])"
      ]
     },
     "execution_count": 41,
     "metadata": {},
     "output_type": "execute_result"
    }
   ],
   "source": [
    "M = len(filament_ids) # larger array \n",
    "N = len(filament_lengths) # smaller array \n",
    "\n",
    "all_filament_lengths = np.zeros(M)\n",
    "\n",
    "for i in range(N): \n",
    "    mask2 = np.where(filament_ids == i)\n",
    "    all_filament_lengths[mask2] = filament_lengths[i]\n",
    "\n",
    "all_filament_lengths"
   ]
  },
  {
   "cell_type": "code",
   "execution_count": 44,
   "metadata": {},
   "outputs": [
    {
     "name": "stdout",
     "output_type": "stream",
     "text": [
      "(25060,) \n",
      " (25060, 7)\n"
     ]
    }
   ],
   "source": [
    "# Confirm this matches the original segment of filaments array\n",
    "print(all_filament_lengths.shape, \"\\n\", segment_array.shape)"
   ]
  },
  {
   "cell_type": "code",
   "execution_count": 45,
   "metadata": {},
   "outputs": [
    {
     "data": {
      "text/html": [
       "<div>\n",
       "<style scoped>\n",
       "    .dataframe tbody tr th:only-of-type {\n",
       "        vertical-align: middle;\n",
       "    }\n",
       "\n",
       "    .dataframe tbody tr th {\n",
       "        vertical-align: top;\n",
       "    }\n",
       "\n",
       "    .dataframe thead th {\n",
       "        text-align: right;\n",
       "    }\n",
       "</style>\n",
       "<table border=\"1\" class=\"dataframe\">\n",
       "  <thead>\n",
       "    <tr style=\"text-align: right;\">\n",
       "      <th></th>\n",
       "      <th>px</th>\n",
       "      <th>py</th>\n",
       "      <th>pz</th>\n",
       "      <th>px2</th>\n",
       "      <th>py2</th>\n",
       "      <th>pz2</th>\n",
       "      <th>Filament ID</th>\n",
       "      <th>Filament Length</th>\n",
       "    </tr>\n",
       "  </thead>\n",
       "  <tbody>\n",
       "    <tr>\n",
       "      <th>0</th>\n",
       "      <td>-218.108</td>\n",
       "      <td>-153.104</td>\n",
       "      <td>5.52731</td>\n",
       "      <td>-214.830</td>\n",
       "      <td>-150.358</td>\n",
       "      <td>8.16807</td>\n",
       "      <td>0</td>\n",
       "      <td>39.835258</td>\n",
       "    </tr>\n",
       "    <tr>\n",
       "      <th>1</th>\n",
       "      <td>-214.830</td>\n",
       "      <td>-150.358</td>\n",
       "      <td>8.16807</td>\n",
       "      <td>-212.155</td>\n",
       "      <td>-147.191</td>\n",
       "      <td>9.33830</td>\n",
       "      <td>0</td>\n",
       "      <td>39.835258</td>\n",
       "    </tr>\n",
       "    <tr>\n",
       "      <th>2</th>\n",
       "      <td>-212.155</td>\n",
       "      <td>-147.191</td>\n",
       "      <td>9.33830</td>\n",
       "      <td>-210.049</td>\n",
       "      <td>-144.316</td>\n",
       "      <td>9.33611</td>\n",
       "      <td>0</td>\n",
       "      <td>39.835258</td>\n",
       "    </tr>\n",
       "    <tr>\n",
       "      <th>3</th>\n",
       "      <td>-210.049</td>\n",
       "      <td>-144.316</td>\n",
       "      <td>9.33611</td>\n",
       "      <td>-208.257</td>\n",
       "      <td>-142.392</td>\n",
       "      <td>9.13846</td>\n",
       "      <td>0</td>\n",
       "      <td>39.835258</td>\n",
       "    </tr>\n",
       "    <tr>\n",
       "      <th>4</th>\n",
       "      <td>-208.257</td>\n",
       "      <td>-142.392</td>\n",
       "      <td>9.13846</td>\n",
       "      <td>-206.576</td>\n",
       "      <td>-141.051</td>\n",
       "      <td>9.01675</td>\n",
       "      <td>0</td>\n",
       "      <td>39.835258</td>\n",
       "    </tr>\n",
       "    <tr>\n",
       "      <th>...</th>\n",
       "      <td>...</td>\n",
       "      <td>...</td>\n",
       "      <td>...</td>\n",
       "      <td>...</td>\n",
       "      <td>...</td>\n",
       "      <td>...</td>\n",
       "      <td>...</td>\n",
       "      <td>...</td>\n",
       "    </tr>\n",
       "    <tr>\n",
       "      <th>2</th>\n",
       "      <td>-824.080</td>\n",
       "      <td>-770.452</td>\n",
       "      <td>-5.33363</td>\n",
       "      <td>-822.003</td>\n",
       "      <td>-772.237</td>\n",
       "      <td>-6.29777</td>\n",
       "      <td>3677</td>\n",
       "      <td>7.725679</td>\n",
       "    </tr>\n",
       "    <tr>\n",
       "      <th>0</th>\n",
       "      <td>-823.801</td>\n",
       "      <td>-728.619</td>\n",
       "      <td>-29.48720</td>\n",
       "      <td>-823.578</td>\n",
       "      <td>-728.600</td>\n",
       "      <td>-32.58120</td>\n",
       "      <td>3678</td>\n",
       "      <td>7.727589</td>\n",
       "    </tr>\n",
       "    <tr>\n",
       "      <th>1</th>\n",
       "      <td>-823.578</td>\n",
       "      <td>-728.600</td>\n",
       "      <td>-32.58120</td>\n",
       "      <td>-822.746</td>\n",
       "      <td>-728.210</td>\n",
       "      <td>-34.12370</td>\n",
       "      <td>3678</td>\n",
       "      <td>7.727589</td>\n",
       "    </tr>\n",
       "    <tr>\n",
       "      <th>2</th>\n",
       "      <td>-822.746</td>\n",
       "      <td>-728.210</td>\n",
       "      <td>-34.12370</td>\n",
       "      <td>-821.686</td>\n",
       "      <td>-727.488</td>\n",
       "      <td>-34.64460</td>\n",
       "      <td>3678</td>\n",
       "      <td>7.727589</td>\n",
       "    </tr>\n",
       "    <tr>\n",
       "      <th>3</th>\n",
       "      <td>-821.686</td>\n",
       "      <td>-727.488</td>\n",
       "      <td>-34.64460</td>\n",
       "      <td>-820.548</td>\n",
       "      <td>-726.648</td>\n",
       "      <td>-34.94400</td>\n",
       "      <td>3678</td>\n",
       "      <td>7.727589</td>\n",
       "    </tr>\n",
       "  </tbody>\n",
       "</table>\n",
       "<p>25060 rows × 8 columns</p>\n",
       "</div>"
      ],
      "text/plain": [
       "         px       py        pz      px2      py2       pz2  Filament ID  \\\n",
       "0  -218.108 -153.104   5.52731 -214.830 -150.358   8.16807            0   \n",
       "1  -214.830 -150.358   8.16807 -212.155 -147.191   9.33830            0   \n",
       "2  -212.155 -147.191   9.33830 -210.049 -144.316   9.33611            0   \n",
       "3  -210.049 -144.316   9.33611 -208.257 -142.392   9.13846            0   \n",
       "4  -208.257 -142.392   9.13846 -206.576 -141.051   9.01675            0   \n",
       "..      ...      ...       ...      ...      ...       ...          ...   \n",
       "2  -824.080 -770.452  -5.33363 -822.003 -772.237  -6.29777         3677   \n",
       "0  -823.801 -728.619 -29.48720 -823.578 -728.600 -32.58120         3678   \n",
       "1  -823.578 -728.600 -32.58120 -822.746 -728.210 -34.12370         3678   \n",
       "2  -822.746 -728.210 -34.12370 -821.686 -727.488 -34.64460         3678   \n",
       "3  -821.686 -727.488 -34.64460 -820.548 -726.648 -34.94400         3678   \n",
       "\n",
       "    Filament Length  \n",
       "0         39.835258  \n",
       "1         39.835258  \n",
       "2         39.835258  \n",
       "3         39.835258  \n",
       "4         39.835258  \n",
       "..              ...  \n",
       "2          7.725679  \n",
       "0          7.727589  \n",
       "1          7.727589  \n",
       "2          7.727589  \n",
       "3          7.727589  \n",
       "\n",
       "[25060 rows x 8 columns]"
      ]
     },
     "execution_count": 45,
     "metadata": {},
     "output_type": "execute_result"
    }
   ],
   "source": [
    "# Add columnn to DataFrame\n",
    "segments['Filament Length'] = all_filament_lengths\n",
    "segments "
   ]
  },
  {
   "cell_type": "markdown",
   "metadata": {},
   "source": [
    "### CLASS CHECK BELOW"
   ]
  },
  {
   "cell_type": "code",
   "execution_count": 5,
   "metadata": {},
   "outputs": [
    {
     "data": {
      "text/html": [
       "<div>\n",
       "<style scoped>\n",
       "    .dataframe tbody tr th:only-of-type {\n",
       "        vertical-align: middle;\n",
       "    }\n",
       "\n",
       "    .dataframe tbody tr th {\n",
       "        vertical-align: top;\n",
       "    }\n",
       "\n",
       "    .dataframe thead th {\n",
       "        text-align: right;\n",
       "    }\n",
       "</style>\n",
       "<table border=\"1\" class=\"dataframe\">\n",
       "  <thead>\n",
       "    <tr style=\"text-align: right;\">\n",
       "      <th></th>\n",
       "      <th>px</th>\n",
       "      <th>py</th>\n",
       "      <th>pz</th>\n",
       "      <th>px2</th>\n",
       "      <th>py2</th>\n",
       "      <th>pz2</th>\n",
       "      <th>Filament ID</th>\n",
       "      <th>Filament Length</th>\n",
       "    </tr>\n",
       "  </thead>\n",
       "  <tbody>\n",
       "    <tr>\n",
       "      <th>0</th>\n",
       "      <td>-218.108</td>\n",
       "      <td>-153.104</td>\n",
       "      <td>5.52731</td>\n",
       "      <td>-214.830</td>\n",
       "      <td>-150.358</td>\n",
       "      <td>8.16807</td>\n",
       "      <td>0</td>\n",
       "      <td>39.835258</td>\n",
       "    </tr>\n",
       "    <tr>\n",
       "      <th>1</th>\n",
       "      <td>-214.830</td>\n",
       "      <td>-150.358</td>\n",
       "      <td>8.16807</td>\n",
       "      <td>-212.155</td>\n",
       "      <td>-147.191</td>\n",
       "      <td>9.33830</td>\n",
       "      <td>0</td>\n",
       "      <td>39.835258</td>\n",
       "    </tr>\n",
       "    <tr>\n",
       "      <th>2</th>\n",
       "      <td>-212.155</td>\n",
       "      <td>-147.191</td>\n",
       "      <td>9.33830</td>\n",
       "      <td>-210.049</td>\n",
       "      <td>-144.316</td>\n",
       "      <td>9.33611</td>\n",
       "      <td>0</td>\n",
       "      <td>39.835258</td>\n",
       "    </tr>\n",
       "    <tr>\n",
       "      <th>3</th>\n",
       "      <td>-210.049</td>\n",
       "      <td>-144.316</td>\n",
       "      <td>9.33611</td>\n",
       "      <td>-208.257</td>\n",
       "      <td>-142.392</td>\n",
       "      <td>9.13846</td>\n",
       "      <td>0</td>\n",
       "      <td>39.835258</td>\n",
       "    </tr>\n",
       "    <tr>\n",
       "      <th>4</th>\n",
       "      <td>-208.257</td>\n",
       "      <td>-142.392</td>\n",
       "      <td>9.13846</td>\n",
       "      <td>-206.576</td>\n",
       "      <td>-141.051</td>\n",
       "      <td>9.01675</td>\n",
       "      <td>0</td>\n",
       "      <td>39.835258</td>\n",
       "    </tr>\n",
       "    <tr>\n",
       "      <th>...</th>\n",
       "      <td>...</td>\n",
       "      <td>...</td>\n",
       "      <td>...</td>\n",
       "      <td>...</td>\n",
       "      <td>...</td>\n",
       "      <td>...</td>\n",
       "      <td>...</td>\n",
       "      <td>...</td>\n",
       "    </tr>\n",
       "    <tr>\n",
       "      <th>2</th>\n",
       "      <td>-824.080</td>\n",
       "      <td>-770.452</td>\n",
       "      <td>-5.33363</td>\n",
       "      <td>-822.003</td>\n",
       "      <td>-772.237</td>\n",
       "      <td>-6.29777</td>\n",
       "      <td>3677</td>\n",
       "      <td>7.725679</td>\n",
       "    </tr>\n",
       "    <tr>\n",
       "      <th>0</th>\n",
       "      <td>-823.801</td>\n",
       "      <td>-728.619</td>\n",
       "      <td>-29.48720</td>\n",
       "      <td>-823.578</td>\n",
       "      <td>-728.600</td>\n",
       "      <td>-32.58120</td>\n",
       "      <td>3678</td>\n",
       "      <td>7.727589</td>\n",
       "    </tr>\n",
       "    <tr>\n",
       "      <th>1</th>\n",
       "      <td>-823.578</td>\n",
       "      <td>-728.600</td>\n",
       "      <td>-32.58120</td>\n",
       "      <td>-822.746</td>\n",
       "      <td>-728.210</td>\n",
       "      <td>-34.12370</td>\n",
       "      <td>3678</td>\n",
       "      <td>7.727589</td>\n",
       "    </tr>\n",
       "    <tr>\n",
       "      <th>2</th>\n",
       "      <td>-822.746</td>\n",
       "      <td>-728.210</td>\n",
       "      <td>-34.12370</td>\n",
       "      <td>-821.686</td>\n",
       "      <td>-727.488</td>\n",
       "      <td>-34.64460</td>\n",
       "      <td>3678</td>\n",
       "      <td>7.727589</td>\n",
       "    </tr>\n",
       "    <tr>\n",
       "      <th>3</th>\n",
       "      <td>-821.686</td>\n",
       "      <td>-727.488</td>\n",
       "      <td>-34.64460</td>\n",
       "      <td>-820.548</td>\n",
       "      <td>-726.648</td>\n",
       "      <td>-34.94400</td>\n",
       "      <td>3678</td>\n",
       "      <td>7.727589</td>\n",
       "    </tr>\n",
       "  </tbody>\n",
       "</table>\n",
       "<p>25060 rows × 8 columns</p>\n",
       "</div>"
      ],
      "text/plain": [
       "         px       py        pz      px2      py2       pz2  Filament ID  \\\n",
       "0  -218.108 -153.104   5.52731 -214.830 -150.358   8.16807            0   \n",
       "1  -214.830 -150.358   8.16807 -212.155 -147.191   9.33830            0   \n",
       "2  -212.155 -147.191   9.33830 -210.049 -144.316   9.33611            0   \n",
       "3  -210.049 -144.316   9.33611 -208.257 -142.392   9.13846            0   \n",
       "4  -208.257 -142.392   9.13846 -206.576 -141.051   9.01675            0   \n",
       "..      ...      ...       ...      ...      ...       ...          ...   \n",
       "2  -824.080 -770.452  -5.33363 -822.003 -772.237  -6.29777         3677   \n",
       "0  -823.801 -728.619 -29.48720 -823.578 -728.600 -32.58120         3678   \n",
       "1  -823.578 -728.600 -32.58120 -822.746 -728.210 -34.12370         3678   \n",
       "2  -822.746 -728.210 -34.12370 -821.686 -727.488 -34.64460         3678   \n",
       "3  -821.686 -727.488 -34.64460 -820.548 -726.648 -34.94400         3678   \n",
       "\n",
       "    Filament Length  \n",
       "0         39.835258  \n",
       "1         39.835258  \n",
       "2         39.835258  \n",
       "3         39.835258  \n",
       "4         39.835258  \n",
       "..              ...  \n",
       "2          7.725679  \n",
       "0          7.727589  \n",
       "1          7.727589  \n",
       "2          7.727589  \n",
       "3          7.727589  \n",
       "\n",
       "[25060 rows x 8 columns]"
      ]
     },
     "execution_count": 5,
     "metadata": {},
     "output_type": "execute_result"
    }
   ],
   "source": [
    "my_filaments.lengths()"
   ]
  },
  {
   "cell_type": "code",
   "execution_count": 8,
   "metadata": {},
   "outputs": [
    {
     "data": {
      "text/plain": [
       "array([39.83525826, 19.41085909, 17.66642879, ..., 28.89221023,\n",
       "        7.72567898,  7.72758908])"
      ]
     },
     "execution_count": 8,
     "metadata": {},
     "output_type": "execute_result"
    }
   ],
   "source": [
    "my_filaments.lengths(DataFrame=False)"
   ]
  },
  {
   "cell_type": "code",
   "execution_count": 9,
   "metadata": {},
   "outputs": [
    {
     "data": {
      "text/plain": [
       "(3679,)"
      ]
     },
     "execution_count": 9,
     "metadata": {},
     "output_type": "execute_result"
    }
   ],
   "source": [
    "my_filaments.lengths(DataFrame=False).shape"
   ]
  },
  {
   "cell_type": "code",
   "execution_count": null,
   "metadata": {},
   "outputs": [],
   "source": []
  }
 ],
 "metadata": {
  "kernelspec": {
   "display_name": "gotham_web",
   "language": "python",
   "name": "python3"
  },
  "language_info": {
   "codemirror_mode": {
    "name": "ipython",
    "version": 3
   },
   "file_extension": ".py",
   "mimetype": "text/x-python",
   "name": "python",
   "nbconvert_exporter": "python",
   "pygments_lexer": "ipython3",
   "version": "3.11.0"
  }
 },
 "nbformat": 4,
 "nbformat_minor": 2
}
