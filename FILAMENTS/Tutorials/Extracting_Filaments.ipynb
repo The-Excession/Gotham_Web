{
 "cells": [
  {
   "cell_type": "markdown",
   "id": "80db4041",
   "metadata": {},
   "source": [
    "# How to Extract Filaments \n",
    "\n",
    "\n",
    "#### In this notebook you will learn the stream of steps requires to extract fillaments for differnt data  structures\n",
    "    "
   ]
  },
  {
   "cell_type": "markdown",
   "id": "8d4c56f0",
   "metadata": {},
   "source": [
    "# What are Filaments?\n",
    "\n",
    "A fillament is a tendral like stream of gas that spans the scale of tens to hundreds of megaparsects. Filaments make a structure known as the cosmic web. \n",
    "\n",
    "<break>\n",
    "\n",
    "To idenify fillaments we use DisPerSE. DisPerSE is a topology based code that tracks the presistance of pairs of points. The image below shows an ilistration to further explain persistance. \n",
    "    \n",
    "Persistance = "
   ]
  },
  {
   "attachments": {
    "Persistance.png": {
     "image/png": "[encoded data removed]"
    }
   },
   "cell_type": "markdown",
   "id": "7515a22e",
   "metadata": {},
   "source": [
    "![Persistance.png](attachment:Persistance.png)"
   ]
  },
  {
   "cell_type": "markdown",
   "id": "d153e95e",
   "metadata": {},
   "source": [
    "# Filaments  from Simulation\n"
   ]
  },
  {
   "cell_type": "code",
   "execution_count": 15,
   "id": "abb75181",
   "metadata": {},
   "outputs": [
    {
     "name": "stdout",
     "output_type": "stream",
     "text": [
      "zsh:cd:1: no such file or directory: /data70/cuny/Gotham_Web_Repo/SIMULATION/SCRIPTS/get_fillaments.sh\r\n"
     ]
    }
   ],
   "source": [
    "#Path to getting fillament script \n",
    "! cd /data70/cuny/Gotham_Web_Repo/SIMULATION/SCRIPTS/get_fillaments.sh"
   ]
  },
  {
   "cell_type": "markdown",
   "id": "369dfad3",
   "metadata": {},
   "source": [
    "# Filaments from Observation"
   ]
  },
  {
   "cell_type": "code",
   "execution_count": 13,
   "id": "0b37e816",
   "metadata": {
    "scrolled": false
   },
   "outputs": [
    {
     "name": "stdout",
     "output_type": "stream",
     "text": [
      "zsh:cd:1: no such file or directory: ../Gotham_Web/SIMULATION/SCRIPTS\r\n"
     ]
    }
   ],
   "source": [
    "#Path to getting fillament script \n",
    "! cd ../Gotham_Web/SIMULATION/SCRIPTS/get_fillaments.sh"
   ]
  }
 ],
 "metadata": {
  "kernelspec": {
   "display_name": "Python 3 (ipykernel)",
   "language": "python",
   "name": "python3"
  },
  "language_info": {
   "codemirror_mode": {
    "name": "ipython",
    "version": 3
   },
   "file_extension": ".py",
   "mimetype": "text/x-python",
   "name": "python",
   "nbconvert_exporter": "python",
   "pygments_lexer": "ipython3",
   "version": "3.11.5"
  }
 },
 "nbformat": 4,
 "nbformat_minor": 5
}
