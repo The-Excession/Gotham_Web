{
 "cells": [
  {
   "cell_type": "markdown",
   "id": "9464adf5",
   "metadata": {},
   "source": [
    "# Fil Tutorial\n",
    "\n",
    "### This tutoiral serves as a tour of the filament.py package and shows what sort of functions are at your disposal"
   ]
  },
  {
   "cell_type": "code",
   "execution_count": 3,
   "id": "83379951",
   "metadata": {},
   "outputs": [],
   "source": [
    "#Begin with import the package \n",
    "import sys \n",
    "\n",
    "path = '../filaments/'\n",
    "sys.path.insert(0, path)\n",
    "import filament_functions as fils"
   ]
  },
  {
   "cell_type": "code",
   "execution_count": null,
   "id": "e2a2fd7a",
   "metadata": {},
   "outputs": [],
   "source": []
  }
 ],
 "metadata": {
  "kernelspec": {
   "display_name": "Python 3 (ipykernel)",
   "language": "python",
   "name": "python3"
  },
  "language_info": {
   "codemirror_mode": {
    "name": "ipython",
    "version": 3
   },
   "file_extension": ".py",
   "mimetype": "text/x-python",
   "name": "python",
   "nbconvert_exporter": "python",
   "pygments_lexer": "ipython3",
   "version": "3.11.5"
  }
 },
 "nbformat": 4,
 "nbformat_minor": 5
}
