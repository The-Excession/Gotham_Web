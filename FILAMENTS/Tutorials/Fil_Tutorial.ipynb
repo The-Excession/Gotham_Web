{
 "cells": [
  {
   "cell_type": "markdown",
   "id": "617617c7",
   "metadata": {},
   "source": [
    "# Fil Tutorial\n",
    "\n",
    "### This tutoiral serves as a tour of the filament.py package and shows what sort of functions are at your disposal"
   ]
  },
  {
   "cell_type": "code",
   "execution_count": 1,
   "id": "1e68f37b",
   "metadata": {},
   "outputs": [],
   "source": [
    "#Begin with import the package \n",
    "import sys \n",
    "\n",
    "path = '../filaments/'\n",
    "sys.path.insert(0, path)\n",
    "import filament_functions as fils"
   ]
  },
  {
   "cell_type": "code",
   "execution_count": 2,
   "id": "329d591d",
   "metadata": {},
   "outputs": [
    {
     "ename": "AttributeError",
     "evalue": "module 'filament_functions' has no attribute 'import_filaments'",
     "output_type": "error",
     "traceback": [
      "\u001b[0;31m---------------------------------------------------------------------------\u001b[0m",
      "\u001b[0;31mAttributeError\u001b[0m                            Traceback (most recent call last)",
      "Cell \u001b[0;32mIn[2], line 1\u001b[0m\n\u001b[0;32m----> 1\u001b[0m help(fils\u001b[38;5;241m.\u001b[39mimport_filaments)\n",
      "\u001b[0;31mAttributeError\u001b[0m: module 'filament_functions' has no attribute 'import_filaments'"
     ]
    }
   ],
   "source": [
    "help(fils.import_filaments)"
   ]
  },
  {
   "cell_type": "code",
   "execution_count": null,
   "id": "f001c5e0",
   "metadata": {},
   "outputs": [],
   "source": []
  }
 ],
 "metadata": {
  "kernelspec": {
   "display_name": "Python 3 (ipykernel)",
   "language": "python",
   "name": "python3"
  },
  "language_info": {
   "codemirror_mode": {
    "name": "ipython",
    "version": 3
   },
   "file_extension": ".py",
   "mimetype": "text/x-python",
   "name": "python",
   "nbconvert_exporter": "python",
   "pygments_lexer": "ipython3",
   "version": "3.11.5"
  }
 },
 "nbformat": 4,
 "nbformat_minor": 5
}
