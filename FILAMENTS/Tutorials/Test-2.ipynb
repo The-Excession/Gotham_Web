{
 "cells": [
  {
   "cell_type": "code",
   "execution_count": 7,
   "metadata": {},
   "outputs": [],
   "source": [
    "# Test to see if filament CLASS works well \n",
    "# Test to see if functions work well how they currently are (28 June 2024)\n",
    "import sys \n",
    "\n",
    "path = '../filaments/'\n",
    "sys.path.insert(0, path)\n",
    "import filament_functions as fils\n",
    "from filament import Filament"
   ]
  },
  {
   "cell_type": "code",
   "execution_count": 9,
   "metadata": {},
   "outputs": [],
   "source": [
    "skel_path =  '../Sample_Filaments/GAMA_tess.NDnet_s5.up.NDskl.S002.BRK.ASMB.rmO.rmB.a.NDskl'"
   ]
  },
  {
   "cell_type": "code",
   "execution_count": 10,
   "metadata": {},
   "outputs": [
    {
     "name": "stdout",
     "output_type": "stream",
     "text": [
      "header1, ANDSKEL\n",
      "\n",
      "ndims, 3\n",
      "\n",
      "Comments, #No comments (RB) (RB) (RB) (RB) (RB)\n",
      "\n",
      "Bounding box, BBOX [-1436.7,-987.426,-78.1993] [1440.62,2098.18,156.865]\n",
      "\n",
      "ncrit, 3588\n",
      "nfils, 3679\n",
      "Reading data fields:\n",
      "CP field: persistence_ratio\n",
      "\n",
      "CP field: persistence_nsigmas\n",
      "\n",
      "CP field: persistence\n",
      "\n",
      "CP field: robustness_ratio\n",
      "\n",
      "CP field: robustness\n",
      "\n",
      "CP field: persistence_pair\n",
      "\n",
      "CP field: parent_index\n",
      "\n",
      "CP field: parent_log_index\n",
      "\n",
      "CP field: log_field_value\n",
      "\n",
      "CP field: field_value\n",
      "\n",
      "CP field: cell\n",
      "\n",
      "Filament field: field_value\n",
      "\n",
      "Filament field: orientation\n",
      "\n",
      "Filament field: cell\n",
      "\n",
      "Filament field: log_field_value\n",
      "\n",
      "Filament field: type\n",
      "\n",
      "Filament field: robustness\n",
      "\n",
      "Filament field: robustness_ratio\n",
      "\n",
      "Reading filaments took 0.10 secs.\n"
     ]
    }
   ],
   "source": [
    "my_filaments = Filament(skel_path)"
   ]
  },
  {
   "cell_type": "code",
   "execution_count": null,
   "metadata": {},
   "outputs": [],
   "source": []
  }
 ],
 "metadata": {
  "kernelspec": {
   "display_name": "gotham_web",
   "language": "python",
   "name": "python3"
  },
  "language_info": {
   "codemirror_mode": {
    "name": "ipython",
    "version": 3
   },
   "file_extension": ".py",
   "mimetype": "text/x-python",
   "name": "python",
   "nbconvert_exporter": "python",
   "pygments_lexer": "ipython3",
   "version": "3.11.0"
  }
 },
 "nbformat": 4,
 "nbformat_minor": 2
}
