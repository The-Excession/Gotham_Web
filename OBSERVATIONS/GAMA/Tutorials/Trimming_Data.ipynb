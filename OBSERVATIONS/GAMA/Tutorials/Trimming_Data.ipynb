{
 "cells": [
  {
   "cell_type": "markdown",
   "metadata": {},
   "source": [
    "This notebook shows a simple example of how to trim data / make cuts based on certain chosen parameters. "
   ]
  },
  {
   "cell_type": "code",
   "execution_count": null,
   "metadata": {},
   "outputs": [],
   "source": [
    "# Import relevant libraries\n",
    "import pandas as pd \n",
    "import numpy as np "
   ]
  },
  {
   "cell_type": "code",
   "execution_count": null,
   "metadata": {},
   "outputs": [],
   "source": [
    "# The data we want to use is in GAMA_Galaxies and it is called 'GAMA_sample1.csv\n",
    "!ls ../GAMA_Galaxies "
   ]
  },
  {
   "cell_type": "code",
   "execution_count": null,
   "metadata": {},
   "outputs": [],
   "source": [
    "# Import data \n",
    "path = '../GAMA_Galaxies/GAMA_sample1.csv' # .. tells your computer to move working directory \"up\" to parent (GAMA) and then change directories into everything following the slash / \n",
    "gama = pd.read_csv(path) \n",
    "gama"
   ]
  },
  {
   "cell_type": "code",
   "execution_count": null,
   "metadata": {},
   "outputs": [],
   "source": [
    "# To drop columns (removing them from your working DataFrame\n",
    "drop_col = ['CATAID.1', 'Z_TONRY', 'SURVEY_CODE'] # create a list of the column names that you want to drop \n",
    "gama = gama.drop(drop_col, axis=1) # drop these from the list"
   ]
  },
  {
   "cell_type": "code",
   "execution_count": null,
   "metadata": {},
   "outputs": [],
   "source": [
    "gama # columns should be removed"
   ]
  },
  {
   "cell_type": "code",
   "execution_count": null,
   "metadata": {},
   "outputs": [],
   "source": [
    "# To rename a column:   \t\n",
    "gama.rename(columns = {'nQ':'normalized redshift quality'}, inplace = True) # nQ = Normalised redshift quality (use nQ > 2 for science)"
   ]
  },
  {
   "cell_type": "code",
   "execution_count": null,
   "metadata": {},
   "outputs": [],
   "source": [
    "gama"
   ]
  },
  {
   "cell_type": "markdown",
   "metadata": {},
   "source": [
    "### Filtering Data by Column"
   ]
  },
  {
   "cell_type": "code",
   "execution_count": null,
   "metadata": {},
   "outputs": [],
   "source": [
    "# To cut the GAMA DataFrame by one column: \n",
    "gama['RA']"
   ]
  },
  {
   "cell_type": "code",
   "execution_count": null,
   "metadata": {},
   "outputs": [],
   "source": [
    "# Note that this returns a Pandas Series (like a column vector) rather than a Pandas DataFrame\n",
    "type(gama['RA'])"
   ]
  },
  {
   "cell_type": "code",
   "execution_count": null,
   "metadata": {},
   "outputs": [],
   "source": [
    "# To trim catalog by multiple columns: \n",
    "desired_columns = ['CATAID', 'RA', 'DEC', 'Z']\n",
    "gama.loc[:, desired_columns]"
   ]
  },
  {
   "cell_type": "code",
   "execution_count": null,
   "metadata": {},
   "outputs": [],
   "source": [
    "# Note that this is NOT like dropping columns, this slices the DataFrame but does not save it\n",
    "gama # printing the DataFrame shows the old (unsliced version)"
   ]
  },
  {
   "cell_type": "code",
   "execution_count": null,
   "metadata": {},
   "outputs": [],
   "source": [
    "# To save this sliced version, you need to assign a variable to this sliced DataFrame: \n",
    "sliced_gama = gama.loc[:, ('CATAID', 'RA', 'DEC', 'Z')] # one could have used \"desired_columns\" instead, but you can also just type in the column names directly here\n",
    "sliced_gama"
   ]
  },
  {
   "cell_type": "code",
   "execution_count": null,
   "metadata": {},
   "outputs": [],
   "source": [
    "# Function to slice GAMA dataframe by column names: \n",
    "def GAMA_slice(gama, desired_columns):\n",
    "    '''\n",
    "    Slices the GAMA DataFrame by a desired list of column names. WIP want to add iloc functionality.  \n",
    "\n",
    "    Inputs: \n",
    "    gama (PD DataFrame): Current working GAMA data catalog as a Pandas DataFrame. \n",
    "    desired_columns (list): List of columns you want to slice by. \n",
    "    \n",
    "    Returns: Pandas DataFrame\n",
    "    '''\n",
    "    return gama.loc[:, desired_columns]\n",
    "\n",
    "stellar_masses = GAMA_slice(gama, desired_columns=('CATAID', 'logmstar'))\n",
    "stellar_masses # can now use this function whenever one wants to slice by columns. "
   ]
  },
  {
   "cell_type": "code",
   "execution_count": null,
   "metadata": {},
   "outputs": [],
   "source": [
    "### come back and add iloc functionality / example"
   ]
  },
  {
   "cell_type": "markdown",
   "metadata": {},
   "source": [
    "### Filtering Data by Row Values"
   ]
  },
  {
   "cell_type": "code",
   "execution_count": null,
   "metadata": {},
   "outputs": [],
   "source": [
    "gama"
   ]
  },
  {
   "cell_type": "code",
   "execution_count": null,
   "metadata": {},
   "outputs": [],
   "source": [
    "# To look at values in a column name above/below a certain value: DATAFRAME[DATAFRAME['PARAMETER] > VALUE]\n",
    "gama[gama['logmstar'] > 10] # gives all GAMA columns that meet the condition that logmstar is greater than 10 "
   ]
  },
  {
   "cell_type": "code",
   "execution_count": null,
   "metadata": {},
   "outputs": [],
   "source": [
    "# Different syntax gives the same thing \n",
    "gama[gama.logmstar > 10]"
   ]
  },
  {
   "cell_type": "code",
   "execution_count": null,
   "metadata": {},
   "outputs": [],
   "source": [
    "# Can also look for exact values (all conditional statements work here, as a reminder they are: >  >=  <  <=  ==  !=  |  or  and\n",
    "gama[gama.logmstar == 10.9792] "
   ]
  },
  {
   "cell_type": "code",
   "execution_count": null,
   "metadata": {},
   "outputs": [],
   "source": [
    "# To slice by multiple parameters and their values: \n",
    "gama[(gama.logmstar < 10) | (gama.Z > 0.3)]"
   ]
  },
  {
   "cell_type": "code",
   "execution_count": null,
   "metadata": {},
   "outputs": [],
   "source": [
    "# To actually drop the values we sliced: \n",
    "gama.drop(gama[ (gama.logmstar <10) | (gama.Z > 0.3) ].index , inplace=True)"
   ]
  },
  {
   "cell_type": "code",
   "execution_count": null,
   "metadata": {},
   "outputs": [],
   "source": [
    "# Now the GAMA catalog has only galaxies with logmstar greather than 10 and Z less than 0.3\n",
    "gama "
   ]
  },
  {
   "cell_type": "code",
   "execution_count": null,
   "metadata": {},
   "outputs": [],
   "source": []
  }
 ],
 "metadata": {
  "kernelspec": {
   "display_name": "base",
   "language": "python",
   "name": "python3"
  },
  "language_info": {
   "codemirror_mode": {
    "name": "ipython",
    "version": 3
   },
   "file_extension": ".py",
   "mimetype": "text/x-python",
   "name": "python",
   "nbconvert_exporter": "python",
   "pygments_lexer": "ipython3",
   "version": "3.11.0"
  }
 },
 "nbformat": 4,
 "nbformat_minor": 2
}
