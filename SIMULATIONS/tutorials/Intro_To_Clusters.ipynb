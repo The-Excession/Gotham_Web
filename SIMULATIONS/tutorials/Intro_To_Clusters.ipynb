{
 "cells": [
  {
   "cell_type": "markdown",
   "id": "1ee37885",
   "metadata": {},
   "source": [
    "# Intro to Clusters and Supercomputers\n",
    "\n",
    "### In this notebook you will learn the basic comands and shorthands used when running silucations on a supercomputer"
   ]
  },
  {
   "cell_type": "markdown",
   "id": "9f5e4665",
   "metadata": {},
   "source": [
    " #### How to get started\n",
    " \n",
    "When loging into a supercomputer, cluster or remote computer you need to login using it's address. \n",
    " <br>\n",
    " \n",
    "For instance, on infinity you start by pinging the device to let it know you will attempt to log in. Then you write an ssh comand that \n",
    " \n",
    " "
   ]
  },
  {
   "cell_type": "code",
   "execution_count": null,
   "id": "0be831ec",
   "metadata": {},
   "outputs": [],
   "source": [
    "!ping -c 1 -s 999 infinity01.iap.fr # this ping is alearting infinity that we will attempt to login"
   ]
  },
  {
   "cell_type": "code",
   "execution_count": null,
   "id": "80eeaba7",
   "metadata": {},
   "outputs": [],
   "source": [
    "!ssh -N -f -L localhost:8888:h03:6000 lfeliciano@infinity01.iap.fr #this ssh comand is your attempt to log in \n",
    "#ssh is \n",
    "#\n",
    "#\n",
    "#\n",
    "#"
   ]
  },
  {
   "cell_type": "markdown",
   "id": "fe01dc2f",
   "metadata": {},
   "source": [
    "####"
   ]
  }
 ],
 "metadata": {
  "kernelspec": {
   "display_name": "Python 3 (ipykernel)",
   "language": "python",
   "name": "python3"
  },
  "language_info": {
   "codemirror_mode": {
    "name": "ipython",
    "version": 3
   },
   "file_extension": ".py",
   "mimetype": "text/x-python",
   "name": "python",
   "nbconvert_exporter": "python",
   "pygments_lexer": "ipython3",
   "version": "3.11.5"
  }
 },
 "nbformat": 4,
 "nbformat_minor": 5
}
