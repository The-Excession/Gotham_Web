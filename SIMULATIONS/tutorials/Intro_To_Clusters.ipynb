{
 "cells": [
  {
   "cell_type": "markdown",
   "id": "1ee37885",
   "metadata": {},
   "source": [
    "# Intro to Clusters and Supercomputers\n",
    "\n",
    "### In this notebook you will learn the basic comands and shorthands used when running silucations on a supercomputer"
   ]
  },
  {
   "cell_type": "code",
   "execution_count": null,
   "id": "cedcc314",
   "metadata": {},
   "outputs": [],
   "source": []
  }
 ],
 "metadata": {
  "kernelspec": {
   "display_name": "Python 3 (ipykernel)",
   "language": "python",
   "name": "python3"
  },
  "language_info": {
   "codemirror_mode": {
    "name": "ipython",
    "version": 3
   },
   "file_extension": ".py",
   "mimetype": "text/x-python",
   "name": "python",
   "nbconvert_exporter": "python",
   "pygments_lexer": "ipython3",
   "version": "3.11.5"
  }
 },
 "nbformat": 4,
 "nbformat_minor": 5
}
