{
 "cells": [
  {
   "cell_type": "markdown",
   "id": "1ee37885",
   "metadata": {},
   "source": [
    "# Intro to Clusters and Supercomputers\n",
    "\n",
    "### In this notebook you will learn the basic comands and shorthands used when running silucations on a supercomputer"
   ]
  },
  {
   "cell_type": "markdown",
   "id": "8942f628",
   "metadata": {},
   "source": [
    "## How to Login\n",
    "***\n",
    "When loging into a supercomputer, cluster or remote computer you need to login using it's address. Like any address there is a form to follow. The traditional ssh comand is formatted below. \n",
    "<br>\n",
    "\n",
    ">ssh -p PORTNUMBER username@external_IP_or_hostname\n",
    "\n",
    "Somtimes this is the only step you need. Often there are more security measures like a password or ping command. For instance, on infinity you start by pinging the device to let it know you will attempt to log in. Then you write an ssh comand that logs you in. Finally you enter your account password to login. \n",
    "\n",
    "\n",
    "<div class=\"alert alert-block alert-info\">\n",
    "<b>Tip:</b> \n",
    "A neat way to ensure you don't have to do this every time is by creating an alias. An alias is a keyword that will run a sequence of commands on your terminal so you dont have to repeatedly enter the same long lines of code.\n",
    "<div>\n"
   ]
  },
  {
   "cell_type": "code",
   "execution_count": null,
   "id": "faf0adf8",
   "metadata": {},
   "outputs": [],
   "source": [
    "!ping -c 1 -s 999 infinity01.iap.fr # this ping is alearting infinity that we will attempt to login"
   ]
  },
  {
   "cell_type": "code",
   "execution_count": null,
   "id": "99979ae0",
   "metadata": {},
   "outputs": [],
   "source": [
    "!ssh -N -f -L localhost:8888:h03:6000 lfeliciano@infinity01.iap.fr #this ssh comand is your attempt to log in "
   ]
  },
  {
   "cell_type": "markdown",
   "id": "7e9dcc56",
   "metadata": {},
   "source": [
    "## Running Code\n",
    "\n",
    "<div class=\"alert alert-block alert-success\">\n",
    "<b></b>\n",
    "    Once you enter the cluster or remote-computer you need to do almost everything through terminal commands here are some to help / refer to\n",
    "</div> "
   ]
  },
  {
   "cell_type": "code",
   "execution_count": 1,
   "id": "39d5ecdf",
   "metadata": {},
   "outputs": [
    {
     "ename": "SyntaxError",
     "evalue": "invalid syntax (3935061681.py, line 4)",
     "output_type": "error",
     "traceback": [
      "\u001b[0;36m  Cell \u001b[0;32mIn[1], line 4\u001b[0;36m\u001b[0m\n\u001b[0;31m    qdel code_id                        # deletes/ turminates code running or in the queue\u001b[0m\n\u001b[0m         ^\u001b[0m\n\u001b[0;31mSyntaxError\u001b[0m\u001b[0;31m:\u001b[0m invalid syntax\n"
     ]
    }
   ],
   "source": [
    "#  Cluster Unique Commands\n",
    "\n",
    "qstat                               # check the status of your \n",
    "qdel code_id                        # deletes/ turminates code running or in the queue\n",
    "qsubmit your_code                   # submits your code to run the queue \n",
    "module avail                        # lists all avaible moduels \n",
    "module load module_name             # loads in module for use \n",
    "module unload module_name           # unload a software module\n",
    "scp file username@remote_host:path  # securely copy file to a remote host from local \n",
    "scp unser@remote_host: path_on_cluster path_on local # copy something from remote host to local \n",
    "mpif-90 -o chosen_executabel desired name  # How to compile fortran executables on infinity\n",
    "\n",
    "# Terminal Commands Cheat Sheet\n",
    "\n",
    "pwd                           # print current working directory\n",
    "ls                            # list directory contents\n",
    "cd directory_name             # change directory to directory_name\n",
    "mkdir directory_name          # create a new directory called directory_name\n",
    "touch filename                # create a new file called filename\n",
    "rm filename                   # remove/delete a file called filename\n",
    "cp source destination         # copy source file/directory to destination\n",
    "mv source destination         # move source file/directory to destination\n",
    "nano filename                 # open the nano text editor to edit filename\n",
    "cat filename                  # display contents of filename\n",
    "grep pattern filename         # search for pattern in filename\n",
    "ps                            # list currently running processes\n",
    "kill PID                      # terminate process with ID PID\n",
    "chmod permissions filename    # change permissions of filename\n",
    "man command                   # display manual page for command\n",
    "sudo lsof                     # will list all current jobs running on your local \n"
   ]
  },
  {
   "cell_type": "markdown",
   "id": "9232754a",
   "metadata": {},
   "source": [
    "## Steps on Running Jupyter Notebook on Infinity (can be a lil tricky )\n",
    "***\n",
    "1. Loging to infinity ensuring your have no active jupyter notebooks open\n",
    "\n",
    "2. Load the python module on your local (only need to do once)\n",
    "      - Use module avail to determine which version of python you'd like \n",
    "      - Module load name_of_module\n",
    "      - Ensure you use the same module in your srcipt\n",
    "   \n",
    "3. Set your jupyter notebook password (only need to do once)\n",
    "\n",
    "4. Submit jupyter-i.sh script to your queue \n",
    "\n",
    "5. Open the output file \n",
    "\n",
    "6. Create the connection between your local and infinty by pinging from a terminal on your local \n",
    "      - Commands in output file \n",
    "7. Copy the web address into an empty tab \n",
    "\n",
    "\n",
    "## Debugging Jupyter \n",
    "***\n",
    "<div class=\"alert alert-block alert-info\">\n",
    "<b></b>\n",
    "Jupyter is easily upset on Infinity here are some ways to get unstuck. \n",
    "</div>\n",
    "\n",
    "* Rerun the script using another port ID (you can try 6666 or 9999 or other your may find)\n",
    "\n",
    "* You might have jupyter open somewhere else try to kill the job by using sudo lsof and kill PID command\n",
    "\n",
    "* Restart your laptop and try again \n",
    "\n",
    "* Take a step back have a snack and some water and go through the steps again at a later time (ports can be open for a while somtimes) \n",
    "\n",
    "\n"
   ]
  },
  {
   "cell_type": "markdown",
   "id": "e652b749",
   "metadata": {},
   "source": [
    "## Helpful Locations on Infinity\n",
    "***\n",
    "\n",
    "> /data70/cuny  #commons and scripts are located here\n",
    "<br>\n",
    "\n",
    ">data7b.NewHorizon/OUTPUT_DIR  #sim outputs from NH\n"
   ]
  },
  {
   "cell_type": "markdown",
   "id": "cb2248cb",
   "metadata": {},
   "source": [
    "# For refrance use (Will remove when finalized)\n",
    "<div class=\"alert alert-block alert-warning\">\n",
    "<b>Example:</b> Use yellow boxes for examples that are not \n",
    "inside code cells, or use for mathematical formulas if needed.\n",
    "</div>\n",
    "\n",
    "<div class=\"alert alert-block alert-info\">\n",
    "<b>Tip:</b> Use blue boxes (alert-info) for tips and notes. \n",
    "If it’s a note, you don’t have to include the word “Note”.\n",
    "</div>\n",
    "\n",
    "<div class=\"alert alert-block alert-success\">\n",
    "<b>Up to you:</b> Use green boxes sparingly, and only for some specific \n",
    "purpose that the other boxes can't cover. For example, if you have a lot \n",
    "of related content to link to, maybe you decide to use green boxes for \n",
    "related links from each section of a notebook.\n",
    "</div>\n",
    "\n",
    "<div class=\"alert alert-block alert-danger\">\n",
    "<b>Just don't:</b> In general, avoid the red boxes. These should only be\n",
    "used for actions that might cause data loss or another major issue.\n",
    "</div>"
   ]
  }
 ],
 "metadata": {
  "kernelspec": {
   "display_name": "Python 3 (ipykernel)",
   "language": "python",
   "name": "python3"
  },
  "language_info": {
   "codemirror_mode": {
    "name": "ipython",
    "version": 3
   },
   "file_extension": ".py",
   "mimetype": "text/x-python",
   "name": "python",
   "nbconvert_exporter": "python",
   "pygments_lexer": "ipython3",
   "version": "3.11.5"
  }
 },
 "nbformat": 4,
 "nbformat_minor": 5
}
