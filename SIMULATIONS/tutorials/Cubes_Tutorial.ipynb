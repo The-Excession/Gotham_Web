{
 "cells": [
  {
   "cell_type": "markdown",
   "id": "c8a818ee",
   "metadata": {},
   "source": [
    "# Cubes Tutorial\n",
    "\n",
    "### This tutoiral serves as a tour of the Cubes.py package and shows what sort of functions are at your disposal. "
   ]
  },
  {
   "cell_type": "code",
   "execution_count": null,
   "id": "64f02d35",
   "metadata": {},
   "outputs": [],
   "source": []
  }
 ],
 "metadata": {
  "kernelspec": {
   "display_name": "Python 3 (ipykernel)",
   "language": "python",
   "name": "python3"
  },
  "language_info": {
   "codemirror_mode": {
    "name": "ipython",
    "version": 3
   },
   "file_extension": ".py",
   "mimetype": "text/x-python",
   "name": "python",
   "nbconvert_exporter": "python",
   "pygments_lexer": "ipython3",
   "version": "3.11.5"
  }
 },
 "nbformat": 4,
 "nbformat_minor": 5
}
